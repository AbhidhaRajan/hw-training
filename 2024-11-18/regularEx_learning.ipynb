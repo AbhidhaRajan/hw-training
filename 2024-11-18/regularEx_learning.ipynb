{
 "cells": [
  {
   "cell_type": "code",
   "execution_count": 2,
   "id": "75b3865e",
   "metadata": {},
   "outputs": [],
   "source": [
    "import re"
   ]
  },
  {
   "cell_type": "code",
   "execution_count": 3,
   "id": "26dabf4c",
   "metadata": {},
   "outputs": [
    {
     "name": "stdout",
     "output_type": "stream",
     "text": [
      "Valid Emails: ['test.user@example.com']\n"
     ]
    }
   ],
   "source": [
    "#checking for valid emails\n",
    "\n",
    "emails = [\"test.user@example.com\", \"test@.com\", \"user@domain\"]\n",
    "valid_emails = [email for email in emails if re.match(r'^[a-zA-Z0-9._%+-]+@[a-zA-Z0-9.-]+\\.[a-zA-Z]{2,}$', email)]\n",
    "print(\"Valid Emails:\", valid_emails)\n"
   ]
  },
  {
   "cell_type": "code",
   "execution_count": 19,
   "id": "42837c05",
   "metadata": {},
   "outputs": [
    {
     "name": "stdout",
     "output_type": "stream",
     "text": [
      "Valid_emails: ['test.user@example.com', 'abhidharajan@gmail.com']\n"
     ]
    }
   ],
   "source": [
    "emails = [\"test.user@example.com\", \"test@.com\", \"user@domain\",\"abhidharajan@gmail.com\"]\n",
    "valid_emails=[]\n",
    "for email in emails:\n",
    "    if re.match(r'^[a-zA-Z0-9._%+-]+@[a-zA-Z0-9.-]+\\.[a-zA-Z]{2,}$',email):\n",
    "        valid_emails.append(email)\n",
    "        \n",
    "print(\"Valid_emails:\" ,valid_emails)"
   ]
  },
  {
   "cell_type": "code",
   "execution_count": 21,
   "id": "e1c88283",
   "metadata": {},
   "outputs": [
    {
     "name": "stdout",
     "output_type": "stream",
     "text": [
      "Valid Phone Numbers: ['+1234567890', '9188358101', '12345', '04812505658']\n"
     ]
    }
   ],
   "source": [
    "#phone number\n",
    "phone_numbers = [\"+1234567890\", \"9188358101\", \"12345\", \"abcd1234\",\"04812505658\"]\n",
    "valid_phones = [phone for phone in phone_numbers if re.match(r'^\\+?[0-9]\\d{1,14}$', phone)]\n",
    "print(\"Valid Phone Numbers:\", valid_phones)\n"
   ]
  },
  {
   "cell_type": "code",
   "execution_count": 23,
   "id": "cd3d17e3",
   "metadata": {},
   "outputs": [
    {
     "name": "stdout",
     "output_type": "stream",
     "text": [
      "Valid Dates: ['12/25/2023', '01/01/2024']\n"
     ]
    }
   ],
   "source": [
    "#validating date format MM/DD/YYYY format\n",
    "dates = [\"12/25/2023\", \"01/01/2024\", \"13/01/2024\"]\n",
    "valid_dates = [date for date in dates if re.match(r'^(0[1-9]|1[0-2])\\/(0[1-9]|[12]\\d|3[01])\\/(19|20)\\d{2}$', date)]\n",
    "print(\"Valid Dates:\", valid_dates)\n"
   ]
  },
  {
   "cell_type": "code",
   "execution_count": 29,
   "id": "a4831ff6",
   "metadata": {},
   "outputs": [
    {
     "name": "stdout",
     "output_type": "stream",
     "text": [
      "Cleaned Text: AbhidhaRajan123\n"
     ]
    }
   ],
   "source": [
    "#removing special characters\n",
    "\n",
    "text = \"Abhidha@$*Rajan!123\"\n",
    "cleaned_text = re.sub(r'[^a-zA-Z0-9\\s]', '', text)\n",
    "print(\"Cleaned Text:\", cleaned_text)\n"
   ]
  },
  {
   "cell_type": "code",
   "execution_count": 27,
   "id": "3fdf8d8a",
   "metadata": {},
   "outputs": [
    {
     "name": "stdout",
     "output_type": "stream",
     "text": [
      "Valid URLs: ['https://github.com', 'www.google.org']\n"
     ]
    }
   ],
   "source": [
    "#valid urls\n",
    "\n",
    "urls = [\"https://github.com\", \"www.google.org\", \"htp://example\", \"example\"]\n",
    "valid_urls = [url for url in urls if re.match(r'^(https?:\\/\\/)?(www\\.)?[a-zA-Z0-9.-]+\\.[a-zA-Z]{2,}(\\/\\S*)?$', url)]\n",
    "print(\"Valid URLs:\", valid_urls)\n"
   ]
  },
  {
   "cell_type": "code",
   "execution_count": null,
   "id": "c1706f31",
   "metadata": {},
   "outputs": [],
   "source": []
  }
 ],
 "metadata": {
  "kernelspec": {
   "display_name": "Python 3 (ipykernel)",
   "language": "python",
   "name": "python3"
  },
  "language_info": {
   "codemirror_mode": {
    "name": "ipython",
    "version": 3
   },
   "file_extension": ".py",
   "mimetype": "text/x-python",
   "name": "python",
   "nbconvert_exporter": "python",
   "pygments_lexer": "ipython3",
   "version": "3.12.3"
  }
 },
 "nbformat": 4,
 "nbformat_minor": 5
}
